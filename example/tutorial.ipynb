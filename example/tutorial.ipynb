{
 "cells": [
  {
   "cell_type": "code",
   "execution_count": 1,
   "id": "77475639-5cca-412b-afb2-90199f648787",
   "metadata": {},
   "outputs": [
    {
     "name": "stderr",
     "output_type": "stream",
     "text": [
      "\u001b[36m\u001b[1m[ \u001b[22m\u001b[39m\u001b[36m\u001b[1mInfo: \u001b[22m\u001b[39mPrecompiling ElectronSpinDynamics [aa68f387-e3bf-4208-a9fa-5f722d68c8a5] (cache misses: include_dependency fsize change (2))\n"
     ]
    }
   ],
   "source": [
    "using LinearAlgebra, IniFile, DifferentialEquations, Plots\n",
    "using ElectronSpinDynamics"
   ]
  },
  {
   "cell_type": "code",
   "execution_count": 2,
   "id": "f67a93ae-3abb-4284-a950-1fa330cc96bb",
   "metadata": {},
   "outputs": [
    {
     "data": {
      "text/plain": [
       "SimParams(ElectronSpinDynamics.SW, [0.0, 0.05, 0.5, 5.0], 201.0, 0x0000000000001000, \"out\", [42, 99], ElectronSpinDynamics.Singlet, 1.0)"
      ]
     },
     "execution_count": 2,
     "metadata": {},
     "output_type": "execute_result"
    }
   ],
   "source": [
    "cfg = read(Inifile(), \"input.ini\")   # Dict{String,Dict}\n",
    "# 1. Pick a section\n",
    "\n",
    "mol1 = read_molecule(cfg, \"electron 1\")\n",
    "mol2 = read_molecule(cfg, \"electron 2\")\n",
    "sys = read_system(cfg)\n",
    "simparams = read_simparams(cfg)"
   ]
  },
  {
   "cell_type": "code",
   "execution_count": 8,
   "id": "350d0784-2336-4337-b343-7f93f664bb4b",
   "metadata": {},
   "outputs": [
    {
     "name": "stdout",
     "output_type": "stream",
     "text": [
      "mol1 = ElectronSpinDynamics.Molecule(2.0023193, UInt8[0x03, 0x02, 0x02, 0x02, 0x02, 0x02, 0x02, 0x02, 0x02, 0x02, 0x03], [0.5141406139911681 0.0 0.0; -0.13706792618414612 -0.0 -0.0; -0.13706792618414612 -0.0 -0.0; -0.13706792618414612 -0.0 -0.0; -0.44033852832217035 -0.0 -0.0; 0.4546400686867858 0.0 0.0; 0.4546400686867858 0.0 0.0; 0.4546400686867858 0.0 0.0; 0.4262605982027767 0.0 0.0; 0.4233203613613487 0.0 0.0; 0.1784350286060594 0.0 0.0;;; 0.0 0.5141406139911681 0.0; -0.0 -0.13706792618414612 -0.0; -0.0 -0.13706792618414612 -0.0; -0.0 -0.13706792618414612 -0.0; -0.0 -0.44033852832217035 -0.0; 0.0 0.4546400686867858 0.0; 0.0 0.4546400686867858 0.0; 0.0 0.4546400686867858 0.0; 0.0 0.4262605982027767 0.0; 0.0 0.4233203613613487 0.0; 0.0 0.1784350286060594 0.0;;; 0.0 0.0 0.5141406139911681; -0.0 -0.0 -0.13706792618414612; -0.0 -0.0 -0.13706792618414612; -0.0 -0.0 -0.13706792618414612; -0.0 -0.0 -0.44033852832217035; 0.0 0.0 0.4546400686867858; 0.0 0.0 0.4546400686867858; 0.0 0.0 0.4546400686867858; 0.0 0.0 0.4262605982027767; 0.0 0.0 0.4233203613613487; 0.0 0.0 0.1784350286060594])\n",
      "mol2 = ElectronSpinDynamics.Molecule(2.0023193, UInt8[0x02, 0x03, 0x03, 0x02, 0x02, 0x02, 0x02], [1.6045 0.0 0.0; 0.32156666666666667 0.0 0.0; 0.1465 0.0 0.0; -0.278 -0.0 -0.0; -0.3634 -0.0 -0.0; -0.4879 -0.0 -0.0; -0.5983 -0.0 -0.0;;; 0.0 1.6045 0.0; 0.0 0.32156666666666667 0.0; 0.0 0.1465 0.0; -0.0 -0.278 -0.0; -0.0 -0.3634 -0.0; -0.0 -0.4879 -0.0; -0.0 -0.5983 -0.0;;; 0.0 0.0 1.6045; 0.0 0.0 0.32156666666666667; 0.0 0.0 0.1465; -0.0 -0.0 -0.278; -0.0 -0.0 -0.3634; -0.0 -0.0 -0.4879; -0.0 -0.0 -0.5983])\n",
      "sys = ElectronSpinDynamics.System(0.224, [-0.2533333333333333 -0.0 -0.0; -0.0 -0.2533333333333333 -0.0; -0.0 -0.0 0.5066666666666666], 1.0, 1.0)\n",
      "simparams = SimParams(ElectronSpinDynamics.SW, [0.0, 0.05, 0.5, 5.0], 201.0, 0x0000000000001000, \"out\", [42, 99], ElectronSpinDynamics.Singlet, 1.0)\n"
     ]
    },
    {
     "data": {
      "text/plain": [
       "SimParams(ElectronSpinDynamics.SW, [0.0, 0.05, 0.5, 5.0], 201.0, 0x0000000000001000, \"out\", [42, 99], ElectronSpinDynamics.Singlet, 1.0)"
      ]
     },
     "execution_count": 8,
     "metadata": {},
     "output_type": "execute_result"
    }
   ],
   "source": [
    "@show mol1\n",
    "@show mol2\n",
    "@show sys\n",
    "@show simparams"
   ]
  },
  {
   "cell_type": "code",
   "execution_count": 41,
   "id": "8c4573bf-bc4a-4f38-b811-2e37ce0422d3",
   "metadata": {},
   "outputs": [
    {
     "name": "stdout",
     "output_type": "stream",
     "text": [
      "size(S) = (2, 2, 3)\n",
      "s = 0.0 + 0.0im\n",
      "s = 0.0 + 0.5im\n",
      "s = -0.0 - 0.5im\n",
      "s = 0.0 + 0.0im\n"
     ]
    }
   ],
   "source": [
    "Sx = [0 1; 1 0] ./ 2\n",
    "Sy = [0 -1.0im; 1.0im 0] ./ 2\n",
    "Sz = [1 0; 0 -1] ./ 2\n",
    "S =  cat(Sx, Sy, Sz, dims=3) # (row, col, direction)\n",
    "@show size(S)\n",
    "kron(I(2), I(2))\n",
    "\n",
    "for s in S[:,:,2]\n",
    "    @show s\n",
    "end"
   ]
  },
  {
   "cell_type": "code",
   "execution_count": 48,
   "id": "a4a9c08c-3a34-4e38-832f-8df6ed876a9e",
   "metadata": {},
   "outputs": [
    {
     "name": "stdout",
     "output_type": "stream",
     "text": [
      "ST = [1.0 0.0 0.0 0.0; 0.0 0.7071067811865475 0.7071067811865475 0.0; 0.0 -0.7071067811865475 0.7071067811865475 0.0; 0.0 0.0 0.0 1.0]\n"
     ]
    },
    {
     "data": {
      "text/plain": [
       "ST_basis (generic function with 1 method)"
      ]
     },
     "execution_count": 48,
     "metadata": {},
     "output_type": "execute_result"
    }
   ],
   "source": [
    "ST = [1  0    0    0;\n",
    "      0  1/√2 1/√2 0;\n",
    "      0 -1/√2 1/√2 0;\n",
    "      0  0    0    1]\n",
    "\n",
    "@show(ST)\n",
    "\n",
    "function ST_basis(M::AbstractMatrix)\n",
    "    @assert size(M) == (4, 4) \"Matrix must be 4×4\"\n",
    "\n",
    "    return ST * M * transpose(ST)\n",
    "end"
   ]
  },
  {
   "cell_type": "code",
   "execution_count": 55,
   "id": "753cf893-39ca-4f41-bd7d-26bd7a6e7cc3",
   "metadata": {},
   "outputs": [
    {
     "data": {
      "text/plain": [
       "4×4 Matrix{Float64}:\n",
       " 0.5  0.0          0.0           0.0\n",
       " 0.0  1.11856e-17  0.5           0.0\n",
       " 0.0  0.5          1.11856e-17   0.0\n",
       " 0.0  0.0          0.0          -0.5"
      ]
     },
     "execution_count": 55,
     "metadata": {},
     "output_type": "execute_result"
    }
   ],
   "source": [
    "Sx1 = ST_basis(kron(Sx, I(2)))\n",
    "Sy1 = ST_basis(kron(Sy, I(2)))\n",
    "Sz1 = ST_basis(kron(Sz, I(2)))\n",
    "Sx2 = ST_basis(kron(I(2), Sx))\n",
    "Sy2 = ST_basis(kron(I(2), Sy))\n",
    "Sz2 = ST_basis(kron(I(2), Sz))"
   ]
  },
  {
   "cell_type": "code",
   "execution_count": 74,
   "id": "03265568-f3ed-43c6-8c9b-94a313127956",
   "metadata": {},
   "outputs": [],
   "source": [
    "function clean!(M)\n",
    "    for i in axes(M, 1), j in axes(M, 2)\n",
    "        if abs(M[i,j]) < 1e-15\n",
    "            M[i,j] = 0.0\n",
    "        elseif abs(M[i,j] - 0.5) < 1e-15\n",
    "            M[i,j] = 0.5\n",
    "        elseif abs(M[i,j] + 0.5) < 1e-15\n",
    "            M[i,j] = -0.5\n",
    "        elseif abs(M[i,j] - √2/4) < 1e-15\n",
    "            M[i,j] = √2/4\n",
    "        elseif abs(M[i,j] + √2/4) < 1e-15\n",
    "            M[i,j] = -√2/4\n",
    "        elseif abs(M[i,j] - √2/4im) < 1e-15\n",
    "            M[i,j] = √2/4im\n",
    "        elseif abs(M[i,j] + √2/4im) < 1e-15\n",
    "            M[i,j] = -√2/4im\n",
    "        end\n",
    "    end\n",
    "end\n",
    "clean!(Sx1)\n",
    "clean!(Sx2)\n",
    "clean!(Sy1)\n",
    "clean!(Sy2)\n",
    "clean!(Sz1)\n",
    "clean!(Sz2)"
   ]
  },
  {
   "cell_type": "code",
   "execution_count": 75,
   "id": "a51d21e5-b0be-47f9-a825-13b007070098",
   "metadata": {},
   "outputs": [
    {
     "name": "stdout",
     "output_type": "stream",
     "text": [
      "(Sx1, Sy1, Sz1) = ([0.0 0.3535533905932738 0.3535533905932738 0.0; 0.3535533905932738 0.0 0.0 0.3535533905932738; 0.3535533905932738 0.0 0.0 -0.3535533905932738; 0.0 0.3535533905932738 -0.3535533905932738 0.0], ComplexF64[0.0 + 0.0im 0.0 - 0.3535533905932738im 0.0 - 0.3535533905932738im 0.0 + 0.0im; -0.0 + 0.3535533905932738im 0.0 + 0.0im 0.0 + 0.0im 0.0 - 0.3535533905932738im; -0.0 + 0.3535533905932738im 0.0 + 0.0im 0.0 + 0.0im -0.0 + 0.3535533905932738im; 0.0 + 0.0im -0.0 + 0.3535533905932738im 0.0 - 0.3535533905932738im 0.0 + 0.0im], [0.5 0.0 0.0 0.0; 0.0 0.0 -0.5 0.0; 0.0 -0.5 0.0 0.0; 0.0 0.0 0.0 -0.5])\n",
      "(Sx2, Sy2, Sz2) = ([0.0 0.3535533905932738 -0.3535533905932738 0.0; 0.3535533905932738 0.0 0.0 0.3535533905932738; -0.3535533905932738 0.0 0.0 0.3535533905932738; 0.0 0.3535533905932738 0.3535533905932738 0.0], ComplexF64[0.0 + 0.0im 0.0 - 0.3535533905932738im -0.0 + 0.3535533905932738im 0.0 + 0.0im; -0.0 + 0.3535533905932738im 0.0 + 0.0im 0.0 + 0.0im 0.0 - 0.3535533905932738im; 0.0 - 0.3535533905932738im 0.0 + 0.0im 0.0 + 0.0im 0.0 - 0.3535533905932738im; 0.0 + 0.0im -0.0 + 0.3535533905932738im -0.0 + 0.3535533905932738im 0.0 + 0.0im], [0.5 0.0 0.0 0.0; 0.0 0.0 0.5 0.0; 0.0 0.5 0.0 0.0; 0.0 0.0 0.0 -0.5])\n"
     ]
    },
    {
     "data": {
      "text/plain": [
       "([0.0 0.3535533905932738 -0.3535533905932738 0.0; 0.3535533905932738 0.0 0.0 0.3535533905932738; -0.3535533905932738 0.0 0.0 0.3535533905932738; 0.0 0.3535533905932738 0.3535533905932738 0.0], ComplexF64[0.0 + 0.0im 0.0 - 0.3535533905932738im -0.0 + 0.3535533905932738im 0.0 + 0.0im; -0.0 + 0.3535533905932738im 0.0 + 0.0im 0.0 + 0.0im 0.0 - 0.3535533905932738im; 0.0 - 0.3535533905932738im 0.0 + 0.0im 0.0 + 0.0im 0.0 - 0.3535533905932738im; 0.0 + 0.0im -0.0 + 0.3535533905932738im -0.0 + 0.3535533905932738im 0.0 + 0.0im], [0.5 0.0 0.0 0.0; 0.0 0.0 0.5 0.0; 0.0 0.5 0.0 0.0; 0.0 0.0 0.0 -0.5])"
      ]
     },
     "execution_count": 75,
     "metadata": {},
     "output_type": "execute_result"
    }
   ],
   "source": [
    "@show Sx1, Sy1, Sz1\n",
    "@show Sx2, Sy2, Sz2"
   ]
  },
  {
   "cell_type": "code",
   "execution_count": null,
   "id": "a4bbcf40-c4b9-4739-a0da-9590dada42a5",
   "metadata": {},
   "outputs": [],
   "source": []
  }
 ],
 "metadata": {
  "kernelspec": {
   "display_name": "Julia 1.11.6",
   "language": "julia",
   "name": "julia-1.11"
  },
  "language_info": {
   "file_extension": ".jl",
   "mimetype": "application/julia",
   "name": "julia",
   "version": "1.11.6"
  }
 },
 "nbformat": 4,
 "nbformat_minor": 5
}
