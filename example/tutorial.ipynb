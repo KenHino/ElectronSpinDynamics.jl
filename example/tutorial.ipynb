{
 "cells": [
  {
   "cell_type": "code",
   "execution_count": 1,
   "id": "77475639-5cca-412b-afb2-90199f648787",
   "metadata": {},
   "outputs": [
    {
     "name": "stderr",
     "output_type": "stream",
     "text": [
      "\u001b[36m\u001b[1m[ \u001b[22m\u001b[39m\u001b[36m\u001b[1mInfo: \u001b[22m\u001b[39mPrecompiling ElectronSpinDynamics [aa68f387-e3bf-4208-a9fa-5f722d68c8a5] (cache misses: mismatched flags (18), include_dependency fhash change (2))\n"
     ]
    }
   ],
   "source": [
    "using LinearAlgebra, IniFile, DifferentialEquations, Plots, LaTeXStrings\n",
    "using ElectronSpinDynamics"
   ]
  },
  {
   "cell_type": "code",
   "execution_count": 2,
   "id": "f67a93ae-3abb-4284-a950-1fa330cc96bb",
   "metadata": {},
   "outputs": [
    {
     "data": {
      "text/plain": [
       "SimParams(ElectronSpinDynamics.SimParamModule.SW, [0.05], 201.0, 0x00000000000f4240, \"out\", [42, 99], Singlet, 1.0)"
      ]
     },
     "execution_count": 2,
     "metadata": {},
     "output_type": "execute_result"
    }
   ],
   "source": [
    "cfg = read(Inifile(), \"input.ini\")   # Dict{String,Dict}\n",
    "# 1. Pick a section\n",
    "\n",
    "mol1 = read_molecule(cfg, \"electron 1\")\n",
    "mol2 = read_molecule(cfg, \"electron 2\")\n",
    "sys = read_system(cfg)\n",
    "simparams = read_simparams(cfg)"
   ]
  },
  {
   "cell_type": "code",
   "execution_count": 3,
   "id": "350d0784-2336-4337-b343-7f93f664bb4b",
   "metadata": {},
   "outputs": [
    {
     "name": "stdout",
     "output_type": "stream",
     "text": [
      "mol1 = Molecule{Int64}(2.0023193, [3, 2, 2, 2, 2, 2, 2, 2, 2, 2, 3], [0.5141406139911681 0.0 0.0; -0.13706792618414612 -0.0 -0.0; -0.13706792618414612 -0.0 -0.0; -0.13706792618414612 -0.0 -0.0; -0.44033852832217035 -0.0 -0.0; 0.4546400686867858 0.0 0.0; 0.4546400686867858 0.0 0.0; 0.4546400686867858 0.0 0.0; 0.4262605982027767 0.0 0.0; 0.4233203613613487 0.0 0.0; 0.1784350286060594 0.0 0.0;;; 0.0 0.5141406139911681 0.0; -0.0 -0.13706792618414612 -0.0; -0.0 -0.13706792618414612 -0.0; -0.0 -0.13706792618414612 -0.0; -0.0 -0.44033852832217035 -0.0; 0.0 0.4546400686867858 0.0; 0.0 0.4546400686867858 0.0; 0.0 0.4546400686867858 0.0; 0.0 0.4262605982027767 0.0; 0.0 0.4233203613613487 0.0; 0.0 0.1784350286060594 0.0;;; 0.0 0.0 0.5141406139911681; -0.0 -0.0 -0.13706792618414612; -0.0 -0.0 -0.13706792618414612; -0.0 -0.0 -0.13706792618414612; -0.0 -0.0 -0.44033852832217035; 0.0 0.0 0.4546400686867858; 0.0 0.0 0.4546400686867858; 0.0 0.0 0.4546400686867858; 0.0 0.0 0.4262605982027767; 0.0 0.0 0.4233203613613487; 0.0 0.0 0.1784350286060594])\n",
      "mol2 = Molecule{Int64}(2.0023193, [2, 3, 3, 2, 2, 2, 2], [1.6045 0.0 0.0; 0.32156666666666667 0.0 0.0; 0.1465 0.0 0.0; -0.278 -0.0 -0.0; -0.3634 -0.0 -0.0; -0.4879 -0.0 -0.0; -0.5983 -0.0 -0.0;;; 0.0 1.6045 0.0; 0.0 0.32156666666666667 0.0; 0.0 0.1465 0.0; -0.0 -0.278 -0.0; -0.0 -0.3634 -0.0; -0.0 -0.4879 -0.0; -0.0 -0.5983 -0.0;;; 0.0 0.0 1.6045; 0.0 0.0 0.32156666666666667; 0.0 0.0 0.1465; -0.0 -0.0 -0.278; -0.0 -0.0 -0.3634; -0.0 -0.0 -0.4879; -0.0 -0.0 -0.5983])\n",
      "sys = System(0.224, [-0.2533333333333333 -0.0 -0.0; -0.0 -0.2533333333333333 -0.0; -0.0 -0.0 0.5066666666666666], 1.0, 1.0)\n",
      "simparams = SimParams(ElectronSpinDynamics.SimParamModule.SW, [0.05], 201.0, 0x00000000000f4240, \"out\", [42, 99], Singlet, 1.0)\n"
     ]
    },
    {
     "data": {
      "text/plain": [
       "SimParams(ElectronSpinDynamics.SimParamModule.SW, [0.05], 201.0, 0x00000000000f4240, \"out\", [42, 99], Singlet, 1.0)"
      ]
     },
     "execution_count": 3,
     "metadata": {},
     "output_type": "execute_result"
    }
   ],
   "source": [
    "@show mol1\n",
    "@show mol2\n",
    "@show sys\n",
    "@show simparams"
   ]
  },
  {
   "cell_type": "code",
   "execution_count": 4,
   "id": "8b405100-c302-4f00-b6e2-871fba58d101",
   "metadata": {},
   "outputs": [
    {
     "name": "stdout",
     "output_type": "stream",
     "text": [
      "Sx1 = [0.0 0.3535533905932738 0.3535533905932738 0.0; 0.3535533905932738 0.0 0.0 0.3535533905932738; 0.3535533905932738 0.0 0.0 -0.3535533905932738; 0.0 0.3535533905932738 -0.3535533905932738 0.0]\n",
      "Sx2 = [0.0 0.3535533905932738 -0.3535533905932738 0.0; 0.3535533905932738 0.0 0.0 0.3535533905932738; -0.3535533905932738 0.0 0.0 0.3535533905932738; 0.0 0.3535533905932738 0.3535533905932738 0.0]\n",
      "Sy1 = ComplexF64[0.0 + 0.0im 0.0 - 0.3535533905932738im 0.0 - 0.3535533905932738im 0.0 + 0.0im; -0.0 + 0.3535533905932738im 0.0 + 0.0im 0.0 + 0.0im 0.0 - 0.3535533905932738im; -0.0 + 0.3535533905932738im 0.0 + 0.0im 0.0 + 0.0im -0.0 + 0.3535533905932738im; 0.0 + 0.0im -0.0 + 0.3535533905932738im 0.0 - 0.3535533905932738im 0.0 + 0.0im]\n",
      "Sy2 = ComplexF64[0.0 + 0.0im 0.0 - 0.3535533905932738im -0.0 + 0.3535533905932738im 0.0 + 0.0im; -0.0 + 0.3535533905932738im 0.0 + 0.0im 0.0 + 0.0im 0.0 - 0.3535533905932738im; 0.0 - 0.3535533905932738im 0.0 + 0.0im 0.0 + 0.0im 0.0 - 0.3535533905932738im; 0.0 + 0.0im -0.0 + 0.3535533905932738im -0.0 + 0.3535533905932738im 0.0 + 0.0im]\n",
      "Sz1 = [0.5 0.0 0.0 0.0; 0.0 0.0 -0.5 0.0; 0.0 -0.5 0.0 0.0; 0.0 0.0 0.0 -0.5]\n",
      "Sz2 = [0.5 0.0 0.0 0.0; 0.0 0.0 0.5 0.0; 0.0 0.5 0.0 0.0; 0.0 0.0 0.0 -0.5]\n"
     ]
    },
    {
     "data": {
      "text/plain": [
       "4×4 StaticArraysCore.SMatrix{4, 4, Float64, 16} with indices SOneTo(4)×SOneTo(4):\n",
       " 0.5  0.0  0.0   0.0\n",
       " 0.0  0.0  0.5   0.0\n",
       " 0.0  0.5  0.0   0.0\n",
       " 0.0  0.0  0.0  -0.5"
      ]
     },
     "execution_count": 4,
     "metadata": {},
     "output_type": "execute_result"
    }
   ],
   "source": [
    "@show Sx1\n",
    "@show Sx2\n",
    "@show Sy1\n",
    "@show Sy2\n",
    "@show Sz1\n",
    "@show Sz2"
   ]
  },
  {
   "cell_type": "code",
   "execution_count": 5,
   "id": "56e574ba-add6-495e-9e45-bef42f13e4b5",
   "metadata": {},
   "outputs": [
    {
     "data": {
      "text/plain": [
       "0.0:1.0:201.0"
      ]
     },
     "execution_count": 5,
     "metadata": {},
     "output_type": "execute_result"
    }
   ],
   "source": [
    "time_ns = 0:simparams.dt:simparams.simulation_time"
   ]
  },
  {
   "cell_type": "code",
   "execution_count": null,
   "id": "045503e3-77cb-4825-aeaf-444a41ba8691",
   "metadata": {},
   "outputs": [],
   "source": [
    "results = SW(sys, mol1, mol2, simparams)\n",
    "B0 = 0.05\n",
    "tp = results[B0][\"T+\"]\n",
    "t0 = results[B0][\"T0\"]\n",
    "s = results[B0][\"S\"]\n",
    "tm = results[B0][\"T-\"]"
   ]
  },
  {
   "cell_type": "code",
   "execution_count": null,
   "id": "37f7aa5f-2020-46dc-886e-24cbfcf01b03",
   "metadata": {},
   "outputs": [],
   "source": [
    "plot(time_ns, tp, label=L\"$T_+$\", lw=2)\n",
    "plot!(time_ns, s, xlabel=\"time / ns\", ylabel=\"P\", label=L\"$S$\", lw=2)\n",
    "plot!(time_ns, t0, label=L\"$T_0$\", lw=2)\n",
    "plot!(time_ns, tm, label=L\"$T_-$\", lw=2)\n",
    "plot!(time_ns, s+tp+tm+t0, label=\"trace\", lw=2, ylims=(0.15, 0.35))"
   ]
  },
  {
   "cell_type": "code",
   "execution_count": null,
   "id": "1b6c2c65-9257-48cf-8f7a-936d1b53199b",
   "metadata": {},
   "outputs": [],
   "source": []
  }
 ],
 "metadata": {
  "kernelspec": {
   "display_name": "Julia – MyProject 1.11.6",
   "language": "julia",
   "name": "julia-_-myproject-1.11"
  },
  "language_info": {
   "file_extension": ".jl",
   "mimetype": "application/julia",
   "name": "julia",
   "version": "1.11.6"
  }
 },
 "nbformat": 4,
 "nbformat_minor": 5
}
