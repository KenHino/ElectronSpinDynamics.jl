{
 "cells": [
  {
   "cell_type": "code",
   "execution_count": null,
   "id": "fa07ad8f-1005-49e7-a053-f774ecdec491",
   "metadata": {},
   "outputs": [],
   "source": []
  }
 ],
 "metadata": {
  "kernelspec": {
   "display_name": "Julia – MyProject 1.11.6",
   "language": "julia",
   "name": "julia-_-myproject-1.11"
  },
  "language_info": {
   "file_extension": ".jl",
   "mimetype": "application/julia",
   "name": "julia",
   "version": "1.11.6"
  }
 },
 "nbformat": 4,
 "nbformat_minor": 5
}
